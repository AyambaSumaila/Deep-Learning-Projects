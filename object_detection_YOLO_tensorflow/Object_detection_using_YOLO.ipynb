{
 "cells": [
  {
   "cell_type": "markdown",
   "id": "cb2d8fc9",
   "metadata": {},
   "source": [
    "# Object Detection using YOLO and tensorflow"
   ]
  },
  {
   "cell_type": "code",
   "execution_count": null,
   "id": "b1ca9e01",
   "metadata": {},
   "outputs": [],
   "source": [
    "# import libraries\n",
    "import cv2 \n",
    "import numpy as np\n"
   ]
  },
  {
   "cell_type": "code",
   "execution_count": null,
   "id": "7af30539",
   "metadata": {},
   "outputs": [],
   "source": [
    "#Loading the YOLO3 weights and cfg file \n",
    "my_net=cv2.dnn.readNet('yolo3.weights', 'yolov3.cfg')\n",
    "\n",
    "# loading the class values\n",
    "classes =[]\n",
    "with open(\"coco.names\", \"r\") as f:\n",
    "    classes =[line.strip() for line f.readlines()]\n",
    "    \n",
    "    #print the classes\n",
    "    print(classes)\n",
    "    ## get the convolution layer\n",
    "    layer_names=net.getLayerNames()\n",
    "    outputlayers=[layer_names[i - 1] for i in net.getLayerNames()]\n",
    "    "
   ]
  },
  {
   "cell_type": "code",
   "execution_count": null,
   "id": "56598d20",
   "metadata": {},
   "outputs": [],
   "source": [
    "colors=np.random.uniform(0, 255, size=(len(classes), 3))\n",
    "\n",
    "#loading the image or video\n",
    "cap=cv2.FONT_HERSHEY_SIMPLEX \n",
    "\n",
    "#Get the width and height of the video frames \n",
    "width=int(cap.get(cv2.CAP_PROP_FRAME_WIDTH))\n",
    "height=int(cap.get(cv2.CAP_PROP_FRAME_HEIGTH))\n"
   ]
  },
  {
   "cell_type": "code",
   "execution_count": null,
   "id": "74e0235f",
   "metadata": {},
   "outputs": [],
   "source": [
    "#Define the the codec and create VideoWritter object\n",
    "fourcc=cv2.VideoWritter_fourcc(*'mp4v')\n",
    "vids=cv2.VideoWritter('yolo.mp4', fourcc, 30, (width, height))\n",
    "\n",
    "while True:\n",
    "    ret, frame=cap.read() #Read the frame \n",
    "    if not ret:\n",
    "        break\n",
    "        height, width, channels=frame.shape\n",
    "        "
   ]
  },
  {
   "cell_type": "code",
   "execution_count": null,
   "id": "3ea2da8d",
   "metadata": {},
   "outputs": [],
   "source": []
  },
  {
   "cell_type": "code",
   "execution_count": null,
   "id": "c81a2528",
   "metadata": {},
   "outputs": [],
   "source": [
    "#Detectiong objects, blob conversion which is basically extracting features from image\n",
    "\n",
    "blob=cv2.dnn.blobFromImage(frame, 0.00392,  (320, 320), (0, 0, 0), True, crop=False)\n",
    "net.setInput(blob)\n",
    "\n",
    "outsnet.forward(outputlayers)\n",
    "\n"
   ]
  },
  {
   "cell_type": "code",
   "execution_count": null,
   "id": "4fbc3721",
   "metadata": {},
   "outputs": [],
   "source": [
    "#Shwoing info on screen / get confidence score of algorithm in \n",
    "# detecting an object in blob\n",
    "class_ids=[]\n",
    "confidences=[]\n",
    "boxes=[]\n",
    "\n",
    "for out in outs:\n",
    "    for detection in out:\n",
    "        scores =detection[5:]\n",
    "        class_ids=np.argmax(scores)\n",
    "        confidence=scores(class_ids)\n",
    "        \n",
    "        if confidence > 0.3:\n",
    "            #Object detected\n",
    "            center_x=int(detection[0] * width)\n",
    "            center_x=int(detection[0] * height)\n",
    "\n",
    "            w=int(detection[2] * width)\n",
    "            h=int(detection[3] * height)\n",
    "            #rectangle co-ordinates\n",
    "            x=int(center_x - w/2)\n",
    "            y=int(center_y - h/2)\n",
    "            \n",
    "            boxes.append([x, y, w, h])\n",
    "            \n",
    "            #show confidence intervals\n",
    "            confidences.append(float(confidence))\n",
    "            class_ids.append(class_id)\n",
    "            "
   ]
  },
  {
   "cell_type": "code",
   "execution_count": null,
   "id": "cb83e5f4",
   "metadata": {},
   "outputs": [],
   "source": [
    "# any box having value less than 0.6 -that will remove \n",
    "indexes=cv2.dnn.NMSBoxes(boxes, confidence, 0.4, 0.6)\n",
    "for i in range(len(boxes)):\n",
    "    if i in indexes:\n",
    "        x, y, w, h=boxes[i]\n",
    "        label=str(classes[class_ids[i]])\n",
    "        confidence=confidence[i]\n",
    "        color=colors[class_ids[i]]\n",
    "        cv2.rectanle(frame, (x, y), (x + w, y + h), color, 2)\n",
    "\n",
    "        cv2.putText(frame, label + \" \" + str(round(confidence, 2)),\n",
    "                   (x, y+30), font, 1, (255, 255, 255), 2)\n",
    "        \n",
    "        #Writing the frame \n",
    "        vids.write(frame)\n",
    "        #wait lms loop \n",
    "        cv2.imshow(\"Video\", frame)\n",
    "        if cv2.waitKey(25) & 0xFF == ord('q'):\n",
    "            break\n",
    "            cap.release()\n",
    "            cap.release()\n",
    "            cv2.destroyAllWindows()"
   ]
  },
  {
   "cell_type": "code",
   "execution_count": null,
   "id": "42bd110c",
   "metadata": {},
   "outputs": [],
   "source": []
  },
  {
   "cell_type": "code",
   "execution_count": null,
   "id": "19a1a2de",
   "metadata": {},
   "outputs": [],
   "source": []
  },
  {
   "cell_type": "code",
   "execution_count": null,
   "id": "20a4f9d1",
   "metadata": {},
   "outputs": [],
   "source": []
  },
  {
   "cell_type": "code",
   "execution_count": null,
   "id": "b2a0064b",
   "metadata": {},
   "outputs": [],
   "source": []
  },
  {
   "cell_type": "code",
   "execution_count": null,
   "id": "d4eb3dbc",
   "metadata": {},
   "outputs": [],
   "source": []
  },
  {
   "cell_type": "code",
   "execution_count": null,
   "id": "4ccb0bb5",
   "metadata": {},
   "outputs": [],
   "source": []
  },
  {
   "cell_type": "code",
   "execution_count": null,
   "id": "97ba8c47",
   "metadata": {},
   "outputs": [],
   "source": []
  },
  {
   "cell_type": "code",
   "execution_count": null,
   "id": "cffb2305",
   "metadata": {},
   "outputs": [],
   "source": []
  },
  {
   "cell_type": "code",
   "execution_count": null,
   "id": "3c397045",
   "metadata": {},
   "outputs": [],
   "source": []
  },
  {
   "cell_type": "code",
   "execution_count": null,
   "id": "60108014",
   "metadata": {},
   "outputs": [],
   "source": []
  },
  {
   "cell_type": "code",
   "execution_count": null,
   "id": "e983b72a",
   "metadata": {},
   "outputs": [],
   "source": []
  },
  {
   "cell_type": "code",
   "execution_count": null,
   "id": "3d5f2bdd",
   "metadata": {},
   "outputs": [],
   "source": []
  },
  {
   "cell_type": "code",
   "execution_count": null,
   "id": "e44c9c90",
   "metadata": {},
   "outputs": [],
   "source": []
  },
  {
   "cell_type": "code",
   "execution_count": null,
   "id": "ebf51ec8",
   "metadata": {},
   "outputs": [],
   "source": []
  },
  {
   "cell_type": "code",
   "execution_count": null,
   "id": "d6beb2aa",
   "metadata": {},
   "outputs": [],
   "source": []
  },
  {
   "cell_type": "code",
   "execution_count": null,
   "id": "47adaf25",
   "metadata": {},
   "outputs": [],
   "source": []
  },
  {
   "cell_type": "code",
   "execution_count": null,
   "id": "f5344e3d",
   "metadata": {},
   "outputs": [],
   "source": []
  },
  {
   "cell_type": "code",
   "execution_count": null,
   "id": "165bc119",
   "metadata": {},
   "outputs": [],
   "source": []
  },
  {
   "cell_type": "code",
   "execution_count": null,
   "id": "457c4309",
   "metadata": {},
   "outputs": [],
   "source": []
  },
  {
   "cell_type": "code",
   "execution_count": null,
   "id": "4b6cd1fd",
   "metadata": {},
   "outputs": [],
   "source": []
  },
  {
   "cell_type": "code",
   "execution_count": null,
   "id": "ad357e1b",
   "metadata": {},
   "outputs": [],
   "source": []
  },
  {
   "cell_type": "code",
   "execution_count": null,
   "id": "c39460ee",
   "metadata": {},
   "outputs": [],
   "source": []
  },
  {
   "cell_type": "code",
   "execution_count": null,
   "id": "2b79a774",
   "metadata": {},
   "outputs": [],
   "source": []
  },
  {
   "cell_type": "code",
   "execution_count": null,
   "id": "7671b893",
   "metadata": {},
   "outputs": [],
   "source": []
  },
  {
   "cell_type": "code",
   "execution_count": null,
   "id": "c0169d59",
   "metadata": {},
   "outputs": [],
   "source": []
  },
  {
   "cell_type": "code",
   "execution_count": null,
   "id": "e6997727",
   "metadata": {},
   "outputs": [],
   "source": []
  },
  {
   "cell_type": "code",
   "execution_count": null,
   "id": "d98597b4",
   "metadata": {},
   "outputs": [],
   "source": []
  },
  {
   "cell_type": "code",
   "execution_count": null,
   "id": "b056679c",
   "metadata": {},
   "outputs": [],
   "source": []
  },
  {
   "cell_type": "code",
   "execution_count": null,
   "id": "2abb3200",
   "metadata": {},
   "outputs": [],
   "source": []
  },
  {
   "cell_type": "code",
   "execution_count": null,
   "id": "ffecdc32",
   "metadata": {},
   "outputs": [],
   "source": []
  },
  {
   "cell_type": "code",
   "execution_count": null,
   "id": "7ace6279",
   "metadata": {},
   "outputs": [],
   "source": []
  },
  {
   "cell_type": "code",
   "execution_count": null,
   "id": "e9817e79",
   "metadata": {},
   "outputs": [],
   "source": []
  },
  {
   "cell_type": "code",
   "execution_count": null,
   "id": "e38b82e3",
   "metadata": {},
   "outputs": [],
   "source": []
  },
  {
   "cell_type": "code",
   "execution_count": null,
   "id": "35c27887",
   "metadata": {},
   "outputs": [],
   "source": []
  },
  {
   "cell_type": "code",
   "execution_count": null,
   "id": "5f7ab7d6",
   "metadata": {},
   "outputs": [],
   "source": []
  },
  {
   "cell_type": "code",
   "execution_count": null,
   "id": "83f49add",
   "metadata": {},
   "outputs": [],
   "source": []
  },
  {
   "cell_type": "code",
   "execution_count": null,
   "id": "634f7661",
   "metadata": {},
   "outputs": [],
   "source": []
  },
  {
   "cell_type": "code",
   "execution_count": null,
   "id": "c0be8e10",
   "metadata": {},
   "outputs": [],
   "source": []
  },
  {
   "cell_type": "code",
   "execution_count": null,
   "id": "91a5b3f3",
   "metadata": {},
   "outputs": [],
   "source": []
  },
  {
   "cell_type": "code",
   "execution_count": null,
   "id": "f7336276",
   "metadata": {},
   "outputs": [],
   "source": []
  },
  {
   "cell_type": "code",
   "execution_count": null,
   "id": "4c165b8b",
   "metadata": {},
   "outputs": [],
   "source": []
  },
  {
   "cell_type": "code",
   "execution_count": null,
   "id": "7be6bffb",
   "metadata": {},
   "outputs": [],
   "source": []
  },
  {
   "cell_type": "code",
   "execution_count": null,
   "id": "32930947",
   "metadata": {},
   "outputs": [],
   "source": []
  }
 ],
 "metadata": {
  "kernelspec": {
   "display_name": "Python 3 (ipykernel)",
   "language": "python",
   "name": "python3"
  },
  "language_info": {
   "codemirror_mode": {
    "name": "ipython",
    "version": 3
   },
   "file_extension": ".py",
   "mimetype": "text/x-python",
   "name": "python",
   "nbconvert_exporter": "python",
   "pygments_lexer": "ipython3",
   "version": "3.11.5"
  }
 },
 "nbformat": 4,
 "nbformat_minor": 5
}
